{
 "cells": [
  {
   "cell_type": "markdown",
   "id": "21d0e72e-3887-45f9-8a40-25c995f22bfa",
   "metadata": {},
   "source": [
    "# I535 - Final Project - Data Processing\n",
    "By Binh Bui"
   ]
  },
  {
   "cell_type": "code",
   "execution_count": null,
   "id": "18395968-a511-4e31-9e5c-8f622173458f",
   "metadata": {},
   "outputs": [],
   "source": [
    "#pip install google-cloud-bigquery"
   ]
  },
  {
   "cell_type": "code",
   "execution_count": 9,
   "id": "7d86b7c0-e686-499e-abb9-705ae16402ae",
   "metadata": {},
   "outputs": [],
   "source": [
    "import requests\n",
    "import zipfile\n",
    "import io\n",
    "import pandas as pd\n",
    "from google.cloud import bigquery"
   ]
  },
  {
   "cell_type": "markdown",
   "id": "9b818145-1867-42f6-9f06-7bdbfd8a513f",
   "metadata": {},
   "source": [
    "## 5500 dataset"
   ]
  },
  {
   "cell_type": "code",
   "execution_count": 197,
   "id": "4ab09426-3a54-497e-a3ec-e55387aa742e",
   "metadata": {},
   "outputs": [],
   "source": [
    "# Change to the year you want to download and process\n",
    "year = '2021'"
   ]
  },
  {
   "cell_type": "markdown",
   "id": "bcb253a3-19c2-40b2-81bf-94c40750ea34",
   "metadata": {},
   "source": [
    "### Data loading"
   ]
  },
  {
   "cell_type": "code",
   "execution_count": 199,
   "id": "5c6f6c39-7275-4235-ada9-37b292bfc36e",
   "metadata": {},
   "outputs": [
    {
     "name": "stdout",
     "output_type": "stream",
     "text": [
      "['f_5500_2022_all.csv', 'f_5500_2022_all_layout.txt']\n",
      "                           ACK_ID FORM_PLAN_YEAR_BEGIN_DATE FORM_TAX_PRD  \\\n",
      "0  20230130135522NAL0016717649001                2022-01-01   2022-04-30   \n",
      "\n",
      "                                     PLAN_NAME PLAN_EFF_DATE  \\\n",
      "0  MCLAURIN & ASSOCIATES, INC. RETIREMENT PLAN    2013-11-08   \n",
      "\n",
      "              SPONSOR_DFE_NAME SPONS_DFE_MAIL_US_ADDRESS1  \\\n",
      "0  MCLAURIN & ASSOCIATES, INC.         9015 FURROW AVENUE   \n",
      "\n",
      "  SPONS_DFE_MAIL_US_ADDRESS2 SPONS_DFE_MAIL_US_CITY SPONS_DFE_MAIL_US_STATE  \\\n",
      "0                        NaN          ELLICOTT CITY                      MD   \n",
      "\n",
      "   SPONS_DFE_MAIL_US_ZIP  SPONS_DFE_EIN  SPONS_DFE_PHONE_NUM  BUSINESS_CODE  \\\n",
      "0                21042.0      464074696         4.432444e+09       541513.0   \n",
      "\n",
      "   TOT_ACTIVE_PARTCP_CNT  PARTCP_ACCOUNT_BAL_CNT  \n",
      "0                    0.0                     0.0  \n"
     ]
    }
   ],
   "source": [
    "# Download the ZIP file from the URL\n",
    "url = 'https://askebsa.dol.gov/FOIA Files/' + year + '/All/F_5500_' + year + '_All.zip' \n",
    "response = requests.get(url)\n",
    "\n",
    "# Open the ZIP file in memory\n",
    "zip_file = zipfile.ZipFile(io.BytesIO(response.content))\n",
    "\n",
    "# List the files in the ZIP\n",
    "print(zip_file.namelist()) \n",
    "\n",
    "# Extract and read the CSV file into a DataFrame\n",
    "with zip_file.open('f_5500_' + year + '_all.csv') as csvfile:\n",
    "    df = pd.read_csv(csvfile, usecols=['ACK_ID','FORM_PLAN_YEAR_BEGIN_DATE','FORM_TAX_PRD','PLAN_NAME','PLAN_EFF_DATE','SPONSOR_DFE_NAME',\n",
    "                                       'SPONS_DFE_MAIL_US_ADDRESS1','SPONS_DFE_MAIL_US_ADDRESS2','SPONS_DFE_MAIL_US_CITY','SPONS_DFE_MAIL_US_STATE',\n",
    "                                       'SPONS_DFE_MAIL_US_ZIP','SPONS_DFE_EIN','SPONS_DFE_PHONE_NUM','BUSINESS_CODE',\n",
    "                                       'TOT_ACTIVE_PARTCP_CNT','PARTCP_ACCOUNT_BAL_CNT'])\n",
    "\n",
    "print(df.head(1))"
   ]
  },
  {
   "cell_type": "code",
   "execution_count": 200,
   "id": "d07966fb-29b7-43f3-974b-40d629fef1f5",
   "metadata": {},
   "outputs": [
    {
     "data": {
      "text/plain": [
       "(258755, 16)"
      ]
     },
     "execution_count": 200,
     "metadata": {},
     "output_type": "execute_result"
    }
   ],
   "source": [
    "df.shape"
   ]
  },
  {
   "cell_type": "markdown",
   "id": "f2d91a97-2365-4864-8913-8f819fa54ffb",
   "metadata": {},
   "source": [
    "### Cleaning\n",
    "The plans in Form 5500 dataset are plans that have from 100 participant and above, so plans that have total active participant less than 2 and total participant that have balance less than 100 are filtered out. Only plans that have FORM_PLAN_YEAR_BEGIN_DATE and FORM_TAX_PRD within the specific year are selected. For example, if the year of 2021 is in the processing, plans that have FORM_PLAN_YEAR_BEGIN_DATE in 2020-10-24 should be filtered out.  "
   ]
  },
  {
   "cell_type": "code",
   "execution_count": 201,
   "id": "9e344313-3f41-40d1-a540-1b0114b85c5e",
   "metadata": {},
   "outputs": [],
   "source": [
    "df['FORM_PLAN_YEAR_BEGIN_DATE'] = pd.to_datetime(df['FORM_PLAN_YEAR_BEGIN_DATE'], errors='coerce') # This will set invalid dates to NaT (not a time)\n",
    "df['FORM_TAX_PRD'] = pd.to_datetime(df['FORM_TAX_PRD'], errors='coerce') # This will set invalid dates to NaT (not a time)"
   ]
  },
  {
   "cell_type": "code",
   "execution_count": 202,
   "id": "314dc49c-3e8c-4eea-bd54-d97bca04ce24",
   "metadata": {},
   "outputs": [
    {
     "data": {
      "text/plain": [
       "(68814, 16)"
      ]
     },
     "execution_count": 202,
     "metadata": {},
     "output_type": "execute_result"
    }
   ],
   "source": [
    "df_filtered = df[(df['TOT_ACTIVE_PARTCP_CNT']>=2)&(df['PARTCP_ACCOUNT_BAL_CNT']>=100)&\n",
    "                (df['FORM_PLAN_YEAR_BEGIN_DATE']>=pd.to_datetime(year + '-01-01'))&(df['FORM_TAX_PRD']<=pd.to_datetime(year + '-12-31'))]\n",
    "df_filtered.shape"
   ]
  },
  {
   "cell_type": "code",
   "execution_count": 203,
   "id": "83d46e9f-691c-4d1a-a783-ba77b266301d",
   "metadata": {},
   "outputs": [
    {
     "name": "stdout",
     "output_type": "stream",
     "text": [
      "<class 'pandas.core.frame.DataFrame'>\n",
      "Index: 68814 entries, 54 to 258754\n",
      "Data columns (total 16 columns):\n",
      " #   Column                      Non-Null Count  Dtype         \n",
      "---  ------                      --------------  -----         \n",
      " 0   ACK_ID                      68814 non-null  object        \n",
      " 1   FORM_PLAN_YEAR_BEGIN_DATE   68814 non-null  datetime64[ns]\n",
      " 2   FORM_TAX_PRD                68814 non-null  datetime64[ns]\n",
      " 3   PLAN_NAME                   68814 non-null  object        \n",
      " 4   PLAN_EFF_DATE               68814 non-null  object        \n",
      " 5   SPONSOR_DFE_NAME            68814 non-null  object        \n",
      " 6   SPONS_DFE_MAIL_US_ADDRESS1  68743 non-null  object        \n",
      " 7   SPONS_DFE_MAIL_US_ADDRESS2  14014 non-null  object        \n",
      " 8   SPONS_DFE_MAIL_US_CITY      68743 non-null  object        \n",
      " 9   SPONS_DFE_MAIL_US_STATE     68743 non-null  object        \n",
      " 10  SPONS_DFE_MAIL_US_ZIP       68743 non-null  float64       \n",
      " 11  SPONS_DFE_EIN               68814 non-null  int64         \n",
      " 12  SPONS_DFE_PHONE_NUM         68717 non-null  float64       \n",
      " 13  BUSINESS_CODE               68772 non-null  float64       \n",
      " 14  TOT_ACTIVE_PARTCP_CNT       68814 non-null  float64       \n",
      " 15  PARTCP_ACCOUNT_BAL_CNT      68814 non-null  float64       \n",
      "dtypes: datetime64[ns](2), float64(5), int64(1), object(8)\n",
      "memory usage: 8.9+ MB\n"
     ]
    }
   ],
   "source": [
    "df_filtered.info()"
   ]
  },
  {
   "cell_type": "code",
   "execution_count": 209,
   "id": "f6702b3b-1418-43da-858d-37e394d82731",
   "metadata": {},
   "outputs": [],
   "source": [
    "df_filtered = df_filtered[['ACK_ID','TOT_ACTIVE_PARTCP_CNT']]"
   ]
  },
  {
   "cell_type": "code",
   "execution_count": 211,
   "id": "4a76e5b0-c103-481f-a27a-4630f73e8eb0",
   "metadata": {},
   "outputs": [
    {
     "data": {
      "text/plain": [
       "(0, 2)"
      ]
     },
     "execution_count": 211,
     "metadata": {},
     "output_type": "execute_result"
    }
   ],
   "source": [
    "# Check duplicates base on ACK_ID\n",
    "duplicate = df_filtered[df_filtered.duplicated('ACK_ID')]\n",
    "duplicate.shape"
   ]
  },
  {
   "cell_type": "markdown",
   "id": "20612a44-2385-4ab8-b81e-a4b8ce9aa6c1",
   "metadata": {},
   "source": [
    "## Schedule H"
   ]
  },
  {
   "cell_type": "markdown",
   "id": "ed117ba7-041d-4c88-9e60-7ff27ecd5281",
   "metadata": {},
   "source": [
    "### Data loading"
   ]
  },
  {
   "cell_type": "code",
   "execution_count": 213,
   "id": "757178b4-8e31-46f2-9087-ec2e4ad22733",
   "metadata": {},
   "outputs": [
    {
     "name": "stdout",
     "output_type": "stream",
     "text": [
      "['F_SCH_H_2022_all.csv', 'F_SCH_H_2022_all_layout.txt']\n",
      "                           ACK_ID SCH_H_PLAN_YEAR_BEGIN_DATE SCH_H_TAX_PRD  \\\n",
      "0  20230628134101NAL0011857794001                 2022-01-01    2022-12-31   \n",
      "\n",
      "   TOT_ASSETS_EOY_AMT  PARTICIPANT_CONTRIB_AMT  \n",
      "0           5709020.0                 482943.0  \n"
     ]
    }
   ],
   "source": [
    "# Download the ZIP file from the URL\n",
    "url = 'https://askebsa.dol.gov/FOIA Files/'+ year +'/All/F_SCH_H_'+ year +'_All.zip' \n",
    "response = requests.get(url)\n",
    "\n",
    "# Open the ZIP file in memory\n",
    "zip_file = zipfile.ZipFile(io.BytesIO(response.content))\n",
    "\n",
    "# List the files in the ZIP\n",
    "print(zip_file.namelist()) \n",
    "\n",
    "# Extract and read the CSV file into a DataFrame\n",
    "with zip_file.open('F_SCH_H_'+ year +'_all.csv') as csvfile:\n",
    "    df_H = pd.read_csv(csvfile, usecols=['ACK_ID','SCH_H_PLAN_YEAR_BEGIN_DATE','SCH_H_TAX_PRD','TOT_ASSETS_EOY_AMT','PARTICIPANT_CONTRIB_AMT'])\n",
    "\n",
    "print(df_H.head(1))"
   ]
  },
  {
   "cell_type": "code",
   "execution_count": 214,
   "id": "38d77430-dba2-499c-ba6e-a350be1485ab",
   "metadata": {},
   "outputs": [
    {
     "data": {
      "text/plain": [
       "(112957, 5)"
      ]
     },
     "execution_count": 214,
     "metadata": {},
     "output_type": "execute_result"
    }
   ],
   "source": [
    "df_H.shape"
   ]
  },
  {
   "cell_type": "markdown",
   "id": "f6791bc0-89ba-4378-a23b-cf4d3c6da0b6",
   "metadata": {},
   "source": [
    "### Cleaning\n",
    "The plans that have TOT_ASSETS_EOY_AMT greater than or equal to $100,000 and PARTICIPANT_CONTRIB_AMT grater than or equal than $10,000 are selected. Only plans that have SCH_H_FORM_PLAN_YEAR_BEGIN_DATE and SCH_H_FORM_TAX_PRD within the specific year are selected. For example, if the year of 2021 is in the processing, plans that have SCH_H_FORM_PLAN_YEAR_BEGIN_DATE in 2020-10-24 should be filtered out.  "
   ]
  },
  {
   "cell_type": "code",
   "execution_count": 217,
   "id": "d84848e0-5fe2-4bea-8586-4cf805d584e7",
   "metadata": {},
   "outputs": [],
   "source": [
    "df_H['SCH_H_PLAN_YEAR_BEGIN_DATE'] = pd.to_datetime(df_H['SCH_H_PLAN_YEAR_BEGIN_DATE'], errors='coerce') # This will set invalid dates to NaT\n",
    "df_H['SCH_H_TAX_PRD'] = pd.to_datetime(df_H['SCH_H_TAX_PRD'], errors='coerce') # This will set invalid dates to NaT"
   ]
  },
  {
   "cell_type": "code",
   "execution_count": 219,
   "id": "ef84cbfe-77c8-4cd2-86c6-4764691484b1",
   "metadata": {},
   "outputs": [
    {
     "data": {
      "text/plain": [
       "(78717, 5)"
      ]
     },
     "execution_count": 219,
     "metadata": {},
     "output_type": "execute_result"
    }
   ],
   "source": [
    "df_H_filtered = df_H[(df_H['TOT_ASSETS_EOY_AMT']>=100000)&(df_H['PARTICIPANT_CONTRIB_AMT']>=10000)&\n",
    "                    (df_H['SCH_H_PLAN_YEAR_BEGIN_DATE']>=pd.to_datetime(year +'-01-01'))&(df_H['SCH_H_TAX_PRD']<=pd.to_datetime(year +'-12-31'))]\n",
    "df_H_filtered.shape"
   ]
  },
  {
   "cell_type": "code",
   "execution_count": 221,
   "id": "34b170a8-545f-4d0c-9194-1709225d77a2",
   "metadata": {},
   "outputs": [
    {
     "name": "stdout",
     "output_type": "stream",
     "text": [
      "<class 'pandas.core.frame.DataFrame'>\n",
      "Index: 78717 entries, 0 to 112952\n",
      "Data columns (total 5 columns):\n",
      " #   Column                      Non-Null Count  Dtype         \n",
      "---  ------                      --------------  -----         \n",
      " 0   ACK_ID                      78717 non-null  object        \n",
      " 1   SCH_H_PLAN_YEAR_BEGIN_DATE  78717 non-null  datetime64[ns]\n",
      " 2   SCH_H_TAX_PRD               78717 non-null  datetime64[ns]\n",
      " 3   TOT_ASSETS_EOY_AMT          78717 non-null  float64       \n",
      " 4   PARTICIPANT_CONTRIB_AMT     78717 non-null  float64       \n",
      "dtypes: datetime64[ns](2), float64(2), object(1)\n",
      "memory usage: 3.6+ MB\n"
     ]
    }
   ],
   "source": [
    "df_H_filtered.info()"
   ]
  },
  {
   "cell_type": "code",
   "execution_count": 223,
   "id": "137ba9a3-ffe5-48d1-8119-874418c07741",
   "metadata": {},
   "outputs": [],
   "source": [
    "df_H_filtered = df_H_filtered[['ACK_ID','TOT_ASSETS_EOY_AMT','PARTICIPANT_CONTRIB_AMT']]"
   ]
  },
  {
   "cell_type": "code",
   "execution_count": 225,
   "id": "493dc94d-c35e-448c-97cd-0e69ce6fc9ea",
   "metadata": {},
   "outputs": [
    {
     "data": {
      "text/plain": [
       "(0, 3)"
      ]
     },
     "execution_count": 225,
     "metadata": {},
     "output_type": "execute_result"
    }
   ],
   "source": [
    "# Check duplicates base on ACK_ID\n",
    "duplicate = df_H_filtered[df_H_filtered.duplicated('ACK_ID')]\n",
    "duplicate.shape"
   ]
  },
  {
   "cell_type": "code",
   "execution_count": 227,
   "id": "329ac655-0324-4558-b7d5-c2b45c047e73",
   "metadata": {},
   "outputs": [
    {
     "data": {
      "text/plain": [
       "(63900, 4)"
      ]
     },
     "execution_count": 227,
     "metadata": {},
     "output_type": "execute_result"
    }
   ],
   "source": [
    "df_cleaned = pd.merge(df_filtered, df_H_filtered, on=['ACK_ID'], how='inner')\n",
    "df_cleaned.shape"
   ]
  },
  {
   "cell_type": "code",
   "execution_count": 229,
   "id": "5a4d60b8-92ae-4513-872b-9500989de9c7",
   "metadata": {},
   "outputs": [
    {
     "data": {
      "text/html": [
       "<div>\n",
       "<style scoped>\n",
       "    .dataframe tbody tr th:only-of-type {\n",
       "        vertical-align: middle;\n",
       "    }\n",
       "\n",
       "    .dataframe tbody tr th {\n",
       "        vertical-align: top;\n",
       "    }\n",
       "\n",
       "    .dataframe thead th {\n",
       "        text-align: right;\n",
       "    }\n",
       "</style>\n",
       "<table border=\"1\" class=\"dataframe\">\n",
       "  <thead>\n",
       "    <tr style=\"text-align: right;\">\n",
       "      <th></th>\n",
       "      <th>ACK_ID</th>\n",
       "      <th>TOT_ACTIVE_PARTCP_CNT</th>\n",
       "      <th>TOT_ASSETS_EOY_AMT</th>\n",
       "      <th>PARTICIPANT_CONTRIB_AMT</th>\n",
       "    </tr>\n",
       "  </thead>\n",
       "  <tbody>\n",
       "    <tr>\n",
       "      <th>0</th>\n",
       "      <td>20230613130702NAL0071334002001</td>\n",
       "      <td>292.0</td>\n",
       "      <td>1.686742e+06</td>\n",
       "      <td>740875.0</td>\n",
       "    </tr>\n",
       "    <tr>\n",
       "      <th>1</th>\n",
       "      <td>20230613130713NAL0036130113001</td>\n",
       "      <td>180.0</td>\n",
       "      <td>3.148279e+06</td>\n",
       "      <td>208155.0</td>\n",
       "    </tr>\n",
       "    <tr>\n",
       "      <th>2</th>\n",
       "      <td>20230615143657NAL0076595522001</td>\n",
       "      <td>5760.0</td>\n",
       "      <td>1.211775e+09</td>\n",
       "      <td>42809662.0</td>\n",
       "    </tr>\n",
       "    <tr>\n",
       "      <th>3</th>\n",
       "      <td>20230615143846NAL0025158099001</td>\n",
       "      <td>163.0</td>\n",
       "      <td>8.377090e+05</td>\n",
       "      <td>233074.0</td>\n",
       "    </tr>\n",
       "    <tr>\n",
       "      <th>4</th>\n",
       "      <td>20230615150417NAL0025180195001</td>\n",
       "      <td>304.0</td>\n",
       "      <td>1.317914e+07</td>\n",
       "      <td>1081434.0</td>\n",
       "    </tr>\n",
       "  </tbody>\n",
       "</table>\n",
       "</div>"
      ],
      "text/plain": [
       "                           ACK_ID  TOT_ACTIVE_PARTCP_CNT  TOT_ASSETS_EOY_AMT  \\\n",
       "0  20230613130702NAL0071334002001                  292.0        1.686742e+06   \n",
       "1  20230613130713NAL0036130113001                  180.0        3.148279e+06   \n",
       "2  20230615143657NAL0076595522001                 5760.0        1.211775e+09   \n",
       "3  20230615143846NAL0025158099001                  163.0        8.377090e+05   \n",
       "4  20230615150417NAL0025180195001                  304.0        1.317914e+07   \n",
       "\n",
       "   PARTICIPANT_CONTRIB_AMT  \n",
       "0                 740875.0  \n",
       "1                 208155.0  \n",
       "2               42809662.0  \n",
       "3                 233074.0  \n",
       "4                1081434.0  "
      ]
     },
     "execution_count": 229,
     "metadata": {},
     "output_type": "execute_result"
    }
   ],
   "source": [
    "df_cleaned.head()"
   ]
  },
  {
   "cell_type": "markdown",
   "id": "0e1275ba-7d0a-48b9-b332-ae82ad3f47e4",
   "metadata": {},
   "source": [
    "## Computing Total Asset, Total Active Participant, and Average Paticipant Contribution"
   ]
  },
  {
   "cell_type": "code",
   "execution_count": 231,
   "id": "ea7522c6-7913-4aeb-a7f7-f5276fb6f93d",
   "metadata": {},
   "outputs": [],
   "source": [
    "total_assets = str(sum(df_cleaned['TOT_ASSETS_EOY_AMT']))\n",
    "total_active_participants = str(sum(df_cleaned['TOT_ACTIVE_PARTCP_CNT'])).split('.')[0]\n",
    "avg_participant_contribution = str(sum(df_cleaned['PARTICIPANT_CONTRIB_AMT'])/sum(df_cleaned['TOT_ACTIVE_PARTCP_CNT']))"
   ]
  },
  {
   "cell_type": "markdown",
   "id": "85651cdd-2288-401a-aeda-9880dd79d2f1",
   "metadata": {},
   "source": [
    "## Insert data into BigQuery"
   ]
  },
  {
   "cell_type": "code",
   "execution_count": null,
   "id": "ccf55e6a-676f-4c99-b4be-07f19fd33f6f",
   "metadata": {},
   "outputs": [],
   "source": [
    "client = bigquery.Client.from_service_account_json('sp24-i535-binhbui-5500database-e5cb7de739da.json')"
   ]
  },
  {
   "cell_type": "code",
   "execution_count": 233,
   "id": "fec1e6e4-ca95-4a42-8cc3-9c871d525b97",
   "metadata": {},
   "outputs": [
    {
     "data": {
      "text/plain": [
       "QueryJob<project=sp24-i535-binhbui-5500database, location=US, id=a0655990-71d6-4db6-be41-b1c3eed11f25>"
      ]
     },
     "execution_count": 233,
     "metadata": {},
     "output_type": "execute_result"
    }
   ],
   "source": [
    "query = \"\"\"INSERT INTO `sp24-i535-binhbui-5500database.5500_Database.BigPlan`\n",
    "            VALUES (\"\"\"+year+\",\"+total_assets+\",\"+total_active_participants+\",\"+avg_participant_contribution+\")\"\n",
    "client.query(query)"
   ]
  }
 ],
 "metadata": {
  "kernelspec": {
   "display_name": "Python 3 (ipykernel)",
   "language": "python",
   "name": "python3"
  },
  "language_info": {
   "codemirror_mode": {
    "name": "ipython",
    "version": 3
   },
   "file_extension": ".py",
   "mimetype": "text/x-python",
   "name": "python",
   "nbconvert_exporter": "python",
   "pygments_lexer": "ipython3",
   "version": "3.12.3"
  }
 },
 "nbformat": 4,
 "nbformat_minor": 5
}
